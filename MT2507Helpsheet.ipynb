{
 "cells": [
  {
   "cell_type": "markdown",
   "id": "f061f391",
   "metadata": {},
   "source": [
    "# MT2507 Mathematical Modelling:  Computing Project Helpsheet"
   ]
  },
  {
   "cell_type": "markdown",
   "id": "35f1461c",
   "metadata": {},
   "source": [
    "First import our packages:"
   ]
  },
  {
   "cell_type": "code",
   "execution_count": 7,
   "id": "bb581a4e",
   "metadata": {},
   "outputs": [],
   "source": [
    "import matplotlib.pyplot as plt\n",
    "import numpy as np"
   ]
  },
  {
   "cell_type": "markdown",
   "id": "05a0c562",
   "metadata": {},
   "source": [
    "## 1. Some initial exploratory work on root finding for functions of one variable."
   ]
  },
  {
   "cell_type": "markdown",
   "id": "44d480db",
   "metadata": {},
   "source": [
    "Let's imagine we want to find a root of the following function:\n",
    "$$ f(x) = e^{2x+3\\sin(x)-1} -1.$$\n",
    "\n",
    "\n",
    "To do so let's first define this as a function:"
   ]
  },
  {
   "cell_type": "code",
   "execution_count": 46,
   "id": "30cd11a1",
   "metadata": {},
   "outputs": [],
   "source": [
    "def f(x):\n",
    "    return np.exp(2*x+3*np.sin(x)-1)-1"
   ]
  },
  {
   "cell_type": "markdown",
   "id": "3432d737",
   "metadata": {},
   "source": [
    "Now to get a handle on the function let's make a plot. This allows us to find how many roots exist and roughly locate where they lie.\n",
    "\n",
    "First we select a range of $x$ values to take, and then make a plot with appropriate axes labels and a title too.  Of course the grid is optional, but is helpful for indicating the $y=0$ line."
   ]
  },
  {
   "cell_type": "code",
   "execution_count": 47,
   "id": "0ec053c6",
   "metadata": {},
   "outputs": [
    {
     "data": {
      "image/png": "[encoded data removed]",
      "text/plain": [
       "<Figure size 432x288 with 1 Axes>"
      ]
     },
     "metadata": {
      "needs_background": "light"
     },
     "output_type": "display_data"
    }
   ],
   "source": [
    "x = np.arange(0.0,0.5,0.01)\n",
    "\n",
    "plt.plot(x,f(x))\n",
    "plt.xlabel('x')\n",
    "plt.ylabel('f(x)')\n",
    "plt.title('f(x) on limited range')\n",
    "\n",
    "plt.grid(True)"
   ]
  },
  {
   "cell_type": "markdown",
   "id": "1abce80f",
   "metadata": {},
   "source": [
    "From that plot we understand that there is one root and that it's in the interval $(0.1,0.3)$.\n",
    "\n",
    "To locate the root we will use the Newton-Raphson method which iterates towards a root for a suitable starting value and sufficiently nice function.\n",
    "\n",
    "To implement the method it would be possible to use numerical derivatives of the function, but in this case let's use the derivative that we could calculate analytically (perhaps using *SymPy* as in the MT2503 work)."
   ]
  },
  {
   "cell_type": "code",
   "execution_count": 48,
   "id": "004f8b76",
   "metadata": {},
   "outputs": [],
   "source": [
    "def dfdx(x):\n",
    "  return (2+3*np.cos(x))*np.exp(2*x+3*np.sin(x)-1)"
   ]
  },
  {
   "cell_type": "markdown",
   "id": "f65035bd",
   "metadata": {},
   "source": [
    "Now we will make a *first attempt* at the scheme itself:"
   ]
  },
  {
   "cell_type": "code",
   "execution_count": 49,
   "id": "34bae7d8",
   "metadata": {},
   "outputs": [],
   "source": [
    "def NRroot(x,f,dfdx):\n",
    "    for i in range(10):\n",
    "        x = x - f(x)/dfdx(x)\n",
    "        print(x)\n",
    "    return x"
   ]
  },
  {
   "cell_type": "markdown",
   "id": "803e5073",
   "metadata": {},
   "source": [
    "If we took an initial guess of $x=0.25$ say then the root would be estimated with this function as:"
   ]
  },
  {
   "cell_type": "code",
   "execution_count": 51,
   "id": "2167ceef",
   "metadata": {},
   "outputs": [
    {
     "name": "stdout",
     "output_type": "stream",
     "text": [
      "0.20616024882690306\n",
      "0.20087647009371423\n",
      "0.20080811673965684\n",
      "0.20080810548067488\n",
      "0.20080810548067457\n",
      "0.20080810548067457\n",
      "0.20080810548067457\n",
      "0.20080810548067457\n",
      "0.20080810548067457\n",
      "0.20080810548067457\n",
      "Root is at, roughly 0.20080810548067457\n"
     ]
    }
   ],
   "source": [
    "r = NRroot(0.25,f,dfdx)\n",
    "print('Root is at, roughly', r)"
   ]
  },
  {
   "cell_type": "markdown",
   "id": "3fda23bd",
   "metadata": {},
   "source": [
    "The above code for implementing the Newton-Raphson scheme is flawed and could be improved.\n",
    "\n",
    "For example, it does not include any way to determine if we have converged to a root, or other stopping criteria. With this illustrative example we have continued to carry out iterations even though we have already converged to the root to machine accuracy."
   ]
  },
  {
   "cell_type": "markdown",
   "id": "d00ee4bc",
   "metadata": {},
   "source": [
    "## 2. Solving a first order ordinary differential equation numerically"
   ]
  },
  {
   "cell_type": "markdown",
   "id": "bd9c7f7a",
   "metadata": {},
   "source": [
    "Assume we have the differential equation\n",
    "\n",
    "$$ \\frac{dy}{dx} = f(x,t) = e^{2x+3\\sin(x)-1}-1.$$"
   ]
  },
  {
   "cell_type": "markdown",
   "id": "dcbc974b",
   "metadata": {},
   "source": [
    "Let's define the right hand side of this differential equation as a function. In this case $f(x,t)$ doesn't actually include any explicit dependence on $t$ of course."
   ]
  },
  {
   "cell_type": "code",
   "execution_count": 52,
   "id": "0e98f77d",
   "metadata": {},
   "outputs": [],
   "source": [
    "def f(x,t):\n",
    "    return np.exp(2*x+3*np.sin(x)-1)-1"
   ]
  },
  {
   "cell_type": "markdown",
   "id": "08709259",
   "metadata": {},
   "source": [
    "Now we will write a second order Runge-Kutta scheme to integrate our function for a single time step:"
   ]
  },
  {
   "cell_type": "code",
   "execution_count": 53,
   "id": "a6427bdb",
   "metadata": {},
   "outputs": [],
   "source": [
    "def RK2step(x,t,h,f):\n",
    "  k1 = h*f(x,t)\n",
    "  k2 = h*f(x+k1/2.0,t+h/2.0)\n",
    "  return x+k2"
   ]
  },
  {
   "cell_type": "markdown",
   "id": "c9d33e16",
   "metadata": {},
   "source": [
    "To integrate the function (solve the ODE) choose a suitable time step $h$, and number of steps to take, $nsteps$ say. The maximum time $t$ reached will be $h \\times nsteps$.\n",
    "\n",
    "For now fix these as:"
   ]
  },
  {
   "cell_type": "code",
   "execution_count": 54,
   "id": "69c0fba7",
   "metadata": {},
   "outputs": [],
   "source": [
    "h = 0.05\n",
    "nsteps = 30"
   ]
  },
  {
   "cell_type": "markdown",
   "id": "c0f3ddc1",
   "metadata": {},
   "source": [
    "We also will need to assume an initial condition. Let's take $$x(0)=0.2.$$"
   ]
  },
  {
   "cell_type": "code",
   "execution_count": 55,
   "id": "788dc85f",
   "metadata": {},
   "outputs": [],
   "source": [
    "x=0.2\n",
    "t=0.0"
   ]
  },
  {
   "cell_type": "markdown",
   "id": "13cce4d9",
   "metadata": {},
   "source": [
    "Now make some arrays in which to store the solutions, and put our first data point (the initial condition) into those arrays:"
   ]
  },
  {
   "cell_type": "code",
   "execution_count": 56,
   "id": "a09753e6",
   "metadata": {},
   "outputs": [],
   "source": [
    "xstore = []\n",
    "tstore = []\n",
    "xstore.append(x)\n",
    "tstore.append(t)"
   ]
  },
  {
   "cell_type": "markdown",
   "id": "6658628c",
   "metadata": {},
   "source": [
    "Now we use our Runge-Kutta function to advance our solution by the relevant number of steps, each of length $h$:"
   ]
  },
  {
   "cell_type": "code",
   "execution_count": 57,
   "id": "23e2aae1",
   "metadata": {},
   "outputs": [],
   "source": [
    "for n in range(nsteps+1):\n",
    "  x = RK2step(x,t,h,f)\n",
    "  t = t+h\n",
    "  xstore.append(x)\n",
    "  tstore.append(t)"
   ]
  },
  {
   "cell_type": "markdown",
   "id": "36636ad0",
   "metadata": {},
   "source": [
    "We now have two arrays which together give us the $t$ and $x$ points on our solution curve. These can be printed out, but it's more illustrative to show their relationship graphically:"
   ]
  },
  {
   "cell_type": "code",
   "execution_count": 59,
   "id": "a43c352a",
   "metadata": {},
   "outputs": [
    {
     "data": {
      "image/png": "[encoded data removed]",
      "text/plain": [
       "<Figure size 432x288 with 1 Axes>"
      ]
     },
     "metadata": {
      "needs_background": "light"
     },
     "output_type": "display_data"
    }
   ],
   "source": [
    "plt.plot(tstore,xstore,'k-')\n",
    "plt.xlabel('t')\n",
    "plt.ylabel('x')\n",
    "plt.title('x(t) for x(0)=0.2')\n",
    "plt.show()"
   ]
  },
  {
   "cell_type": "markdown",
   "id": "8d09bb86",
   "metadata": {},
   "source": [
    "## 3. Solving systems of first order ordinary differential equations numerically"
   ]
  },
  {
   "cell_type": "markdown",
   "id": "e604fa57",
   "metadata": {},
   "source": [
    "Now assume we have the following system of coupled first order differential equations:\n",
    "\n",
    "$$ \\frac{dx}{dt} = x(1-y),$$\n",
    "$$ \\frac{dy}{dt} = y(1-x).$$\n",
    "\n",
    "The right hand side of this system of equations can be defined as a vector valued function. In this case the right hand side isn't actually explicitly depending on time, but to allow for more general situations we'll include that option (should we wish to change the right hand side later)."
   ]
  },
  {
   "cell_type": "code",
   "execution_count": 1,
   "id": "b415f403",
   "metadata": {},
   "outputs": [],
   "source": [
    "def f(x,y,t):\n",
    "    return np.array([x*(1-y),y*(1-x)])"
   ]
  },
  {
   "cell_type": "markdown",
   "id": "b99c0dd5",
   "metadata": {},
   "source": [
    "By inspection we know that there are two steady states for this system of ODEs, and these are given by $(0,0)$ and $(1,1)$.  If the steady states were not all known we could write a 2D Newton-Raphson scheme to locate them, and this is one of the tasks in the project.\n",
    "\n",
    "Here we look at how to integrate the system so that, once an initial condition is specified, solution curves may be found.  We'll use a second order Runge-Kutta scheme to integrate the function for one time step:"
   ]
  },
  {
   "cell_type": "code",
   "execution_count": 2,
   "id": "aa54554d",
   "metadata": {},
   "outputs": [],
   "source": [
    "def RK2step(x,y,t,h,f):\n",
    "  k1 = h*f(x,y,t)\n",
    "  k2 = h*f(x+k1[0]/2.0,y+k1[1]/2.0,t+h/2.0)\n",
    "  return [x+k2[0],y+k2[1]]"
   ]
  },
  {
   "cell_type": "markdown",
   "id": "02b6e2d5",
   "metadata": {},
   "source": [
    "Similarly to the one dimensional case we need to define the time step $h$ and the number of steps to use:"
   ]
  },
  {
   "cell_type": "code",
   "execution_count": 3,
   "id": "d1395319",
   "metadata": {},
   "outputs": [],
   "source": [
    "h=0.05\n",
    "nsteps=25"
   ]
  },
  {
   "cell_type": "markdown",
   "id": "9d7ddc7a",
   "metadata": {},
   "source": [
    "Next we take an initial condition. Somewhat arbitrarily we'll take the condition that $(x,y)=(0.5,0.4)$ when $t=0$:"
   ]
  },
  {
   "cell_type": "code",
   "execution_count": 4,
   "id": "2c4c39eb",
   "metadata": {},
   "outputs": [],
   "source": [
    "t = 0.0\n",
    "x = 0.5\n",
    "y = 0.4"
   ]
  },
  {
   "cell_type": "markdown",
   "id": "dba12e76",
   "metadata": {},
   "source": [
    "Now we solve the coupled ODEs for this initial condition. We do this by advancing the second order Runge-Kutta scheme for several time steps.\n",
    "\n",
    "We must make sure to have arrays in which to store solutions. Having made those arrays we'll put our initial point on the solution curve, $(0.5,0.4)$, into the arrays:"
   ]
  },
  {
   "cell_type": "code",
   "execution_count": 5,
   "id": "83c09964",
   "metadata": {},
   "outputs": [],
   "source": [
    "xstore = []\n",
    "ystore = []\n",
    "xstore.append(x)\n",
    "ystore.append(y)"
   ]
  },
  {
   "cell_type": "markdown",
   "id": "ccd50eea",
   "metadata": {},
   "source": [
    "Now use the second order Runge-Kutta method to advancce the solution by $nsteps$ each of size $h$, storing our points:"
   ]
  },
  {
   "cell_type": "code",
   "execution_count": 8,
   "id": "8559f2d0",
   "metadata": {},
   "outputs": [],
   "source": [
    "for n in range(nsteps+1):\n",
    "  [x,y] = RK2step(x,y,t,h,f)\n",
    "  t = t+h\n",
    "  xstore.append(x)\n",
    "  ystore.append(y)"
   ]
  },
  {
   "cell_type": "markdown",
   "id": "53201eea",
   "metadata": {},
   "source": [
    "We now have two arrays which together give us the $x$ and $y$ points on our solution curve ($t$ values are not explicitly stored, but we know there is a difference of $t=h$ between each point). The arrays for $x$ and $y$ can be printed out, but it's more illustrative to show their relationship graphically:"
   ]
  },
  {
   "cell_type": "code",
   "execution_count": 9,
   "id": "a4252c21",
   "metadata": {},
   "outputs": [
    {
     "data": {
      "image/png": "[encoded data removed]",
      "text/plain": [
       "<Figure size 432x288 with 1 Axes>"
      ]
     },
     "metadata": {
      "needs_background": "light"
     },
     "output_type": "display_data"
    }
   ],
   "source": [
    "plt.plot(xstore, ystore, 'k-')\n",
    "plt.xlabel('x')\n",
    "plt.ylabel('y')\n",
    "plt.title('One solution curve')\n",
    "plt.xlim(0,2)\n",
    "plt.ylim(0,2);\n"
   ]
  },
  {
   "cell_type": "markdown",
   "id": "d2f268c1",
   "metadata": {},
   "source": [
    "Looking at the curve here, which starts at $(0.5,0.4)$, it looks plausible that the solution trajectory might be heading towards the steady state at $(1,1)$?  Or perhaps it's taking a different path. This could be investigated by integrating for a longer time period, for example. We might also want to add additional solution curves to the plot, and indicate any steady states (e.g. using coloured dots). These would help us build up a *phase plane* for this system of differential equations."
   ]
  },
  {
   "cell_type": "code",
   "execution_count": null,
   "id": "604331ff",
   "metadata": {},
   "outputs": [],
   "source": []
  }
 ],
 "metadata": {
  "kernelspec": {
   "display_name": "Python 3 (ipykernel)",
   "language": "python",
   "name": "python3"
  },
  "language_info": {
   "codemirror_mode": {
    "name": "ipython",
    "version": 3
   },
   "file_extension": ".py",
   "mimetype": "text/x-python",
   "name": "python",
   "nbconvert_exporter": "python",
   "pygments_lexer": "ipython3",
   "version": "3.9.7"
  }
 },
 "nbformat": 4,
 "nbformat_minor": 5
}
